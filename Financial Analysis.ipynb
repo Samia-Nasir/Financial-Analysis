{
 "cells": [
  {
   "cell_type": "markdown",
   "metadata": {},
   "source": [
    "## Stock Market Data And Analysis"
   ]
  },
  {
   "cell_type": "markdown",
   "metadata": {},
   "source": [
    "We have apple stock data from 2006 - 2017 and we will perform financial analysis.\n",
    "\n",
    "\n",
    "1) First step is to import data from Excel file to Jupyter NoteBook.\n",
    "\n",
    "\n",
    "2) After importing the data we will visually see the stock price behaviour.\n",
    "\n",
    "\n",
    "3) In the next step we will find the price difference which will help us in the calcualtion of daily returns.\n",
    "\n",
    "\n",
    "4) Now, we will find daily return which means the change in stock price as a percentge of closing price.\n",
    "\n",
    "\n",
    "5) The next step is to find direction which is determined by price difference.\n",
    "\n",
    "6) We will find moving average, as we know the fluctuations are common in stock price. Moving average helps to smooth out the noise.\n",
    "\n",
    "7) Now, we will build a simple strategy of stock trading.\n",
    "\n",
    "\n",
    "8) The next step to to find profit. As we know the profit can be positive or negative. \n",
    "\n",
    "9) The last step is to compute the cumulative wealth using built-in function cumsum()."
   ]
  },
  {
   "cell_type": "markdown",
   "metadata": {},
   "source": [
    "### 1) Importing Data"
   ]
  },
  {
   "cell_type": "code",
   "execution_count": 1,
   "metadata": {},
   "outputs": [],
   "source": [
    "#import the packages \"Pandas\" and \"MatPlotLib\" into Jupyter Notebook\n",
    "import pandas as pd\n",
    "import pandas as pd\n",
    "import matplotlib.pyplot as plt"
   ]
  },
  {
   "cell_type": "code",
   "execution_count": 2,
   "metadata": {},
   "outputs": [],
   "source": [
    "#import Apple's stock data\n",
    "apple =  pd.read_csv('apple.csv')"
   ]
  },
  {
   "cell_type": "code",
   "execution_count": 3,
   "metadata": {},
   "outputs": [
    {
     "data": {
      "text/html": [
       "<div>\n",
       "<style scoped>\n",
       "    .dataframe tbody tr th:only-of-type {\n",
       "        vertical-align: middle;\n",
       "    }\n",
       "\n",
       "    .dataframe tbody tr th {\n",
       "        vertical-align: top;\n",
       "    }\n",
       "\n",
       "    .dataframe thead th {\n",
       "        text-align: right;\n",
       "    }\n",
       "</style>\n",
       "<table border=\"1\" class=\"dataframe\">\n",
       "  <thead>\n",
       "    <tr style=\"text-align: right;\">\n",
       "      <th></th>\n",
       "      <th>Date</th>\n",
       "      <th>Open</th>\n",
       "      <th>High</th>\n",
       "      <th>Low</th>\n",
       "      <th>Close</th>\n",
       "      <th>Adj Close</th>\n",
       "      <th>Volume</th>\n",
       "    </tr>\n",
       "  </thead>\n",
       "  <tbody>\n",
       "    <tr>\n",
       "      <td>0</td>\n",
       "      <td>2006-10-02</td>\n",
       "      <td>10.728572</td>\n",
       "      <td>10.838572</td>\n",
       "      <td>10.614285</td>\n",
       "      <td>10.694285</td>\n",
       "      <td>7.239566</td>\n",
       "      <td>178159800</td>\n",
       "    </tr>\n",
       "    <tr>\n",
       "      <td>1</td>\n",
       "      <td>2006-10-03</td>\n",
       "      <td>10.635715</td>\n",
       "      <td>10.707143</td>\n",
       "      <td>10.455714</td>\n",
       "      <td>10.582857</td>\n",
       "      <td>7.164135</td>\n",
       "      <td>197677200</td>\n",
       "    </tr>\n",
       "    <tr>\n",
       "      <td>2</td>\n",
       "      <td>2006-10-04</td>\n",
       "      <td>10.585714</td>\n",
       "      <td>10.780000</td>\n",
       "      <td>10.451428</td>\n",
       "      <td>10.768572</td>\n",
       "      <td>7.289855</td>\n",
       "      <td>207270700</td>\n",
       "    </tr>\n",
       "    <tr>\n",
       "      <td>3</td>\n",
       "      <td>2006-10-05</td>\n",
       "      <td>10.647142</td>\n",
       "      <td>10.880000</td>\n",
       "      <td>10.590000</td>\n",
       "      <td>10.690000</td>\n",
       "      <td>7.236666</td>\n",
       "      <td>170970800</td>\n",
       "    </tr>\n",
       "    <tr>\n",
       "      <td>4</td>\n",
       "      <td>2006-10-06</td>\n",
       "      <td>10.631429</td>\n",
       "      <td>10.720000</td>\n",
       "      <td>10.544286</td>\n",
       "      <td>10.602858</td>\n",
       "      <td>7.177672</td>\n",
       "      <td>116739700</td>\n",
       "    </tr>\n",
       "  </tbody>\n",
       "</table>\n",
       "</div>"
      ],
      "text/plain": [
       "         Date       Open       High        Low      Close  Adj Close  \\\n",
       "0  2006-10-02  10.728572  10.838572  10.614285  10.694285   7.239566   \n",
       "1  2006-10-03  10.635715  10.707143  10.455714  10.582857   7.164135   \n",
       "2  2006-10-04  10.585714  10.780000  10.451428  10.768572   7.289855   \n",
       "3  2006-10-05  10.647142  10.880000  10.590000  10.690000   7.236666   \n",
       "4  2006-10-06  10.631429  10.720000  10.544286  10.602858   7.177672   \n",
       "\n",
       "      Volume  \n",
       "0  178159800  \n",
       "1  197677200  \n",
       "2  207270700  \n",
       "3  170970800  \n",
       "4  116739700  "
      ]
     },
     "execution_count": 3,
     "metadata": {},
     "output_type": "execute_result"
    }
   ],
   "source": [
    "# head() function used to get the first n rows\n",
    "apple.head()"
   ]
  },
  {
   "cell_type": "code",
   "execution_count": 4,
   "metadata": {},
   "outputs": [
    {
     "data": {
      "text/html": [
       "<div>\n",
       "<style scoped>\n",
       "    .dataframe tbody tr th:only-of-type {\n",
       "        vertical-align: middle;\n",
       "    }\n",
       "\n",
       "    .dataframe tbody tr th {\n",
       "        vertical-align: top;\n",
       "    }\n",
       "\n",
       "    .dataframe thead th {\n",
       "        text-align: right;\n",
       "    }\n",
       "</style>\n",
       "<table border=\"1\" class=\"dataframe\">\n",
       "  <thead>\n",
       "    <tr style=\"text-align: right;\">\n",
       "      <th></th>\n",
       "      <th>Date</th>\n",
       "      <th>Open</th>\n",
       "      <th>High</th>\n",
       "      <th>Low</th>\n",
       "      <th>Close</th>\n",
       "      <th>Adj Close</th>\n",
       "      <th>Volume</th>\n",
       "    </tr>\n",
       "  </thead>\n",
       "  <tbody>\n",
       "    <tr>\n",
       "      <td>2827</td>\n",
       "      <td>2017-12-22</td>\n",
       "      <td>174.679993</td>\n",
       "      <td>175.419998</td>\n",
       "      <td>174.500000</td>\n",
       "      <td>175.009995</td>\n",
       "      <td>174.299362</td>\n",
       "      <td>16349400</td>\n",
       "    </tr>\n",
       "    <tr>\n",
       "      <td>2828</td>\n",
       "      <td>2017-12-26</td>\n",
       "      <td>170.800003</td>\n",
       "      <td>171.470001</td>\n",
       "      <td>169.679993</td>\n",
       "      <td>170.570007</td>\n",
       "      <td>169.877396</td>\n",
       "      <td>33185500</td>\n",
       "    </tr>\n",
       "    <tr>\n",
       "      <td>2829</td>\n",
       "      <td>2017-12-27</td>\n",
       "      <td>170.100006</td>\n",
       "      <td>170.779999</td>\n",
       "      <td>169.710007</td>\n",
       "      <td>170.600006</td>\n",
       "      <td>169.907272</td>\n",
       "      <td>21498200</td>\n",
       "    </tr>\n",
       "    <tr>\n",
       "      <td>2830</td>\n",
       "      <td>2017-12-28</td>\n",
       "      <td>171.000000</td>\n",
       "      <td>171.850006</td>\n",
       "      <td>170.479996</td>\n",
       "      <td>171.080002</td>\n",
       "      <td>170.385315</td>\n",
       "      <td>16480200</td>\n",
       "    </tr>\n",
       "    <tr>\n",
       "      <td>2831</td>\n",
       "      <td>2017-12-29</td>\n",
       "      <td>170.520004</td>\n",
       "      <td>170.589996</td>\n",
       "      <td>169.220001</td>\n",
       "      <td>169.229996</td>\n",
       "      <td>168.542831</td>\n",
       "      <td>25999900</td>\n",
       "    </tr>\n",
       "  </tbody>\n",
       "</table>\n",
       "</div>"
      ],
      "text/plain": [
       "            Date        Open        High         Low       Close   Adj Close  \\\n",
       "2827  2017-12-22  174.679993  175.419998  174.500000  175.009995  174.299362   \n",
       "2828  2017-12-26  170.800003  171.470001  169.679993  170.570007  169.877396   \n",
       "2829  2017-12-27  170.100006  170.779999  169.710007  170.600006  169.907272   \n",
       "2830  2017-12-28  171.000000  171.850006  170.479996  171.080002  170.385315   \n",
       "2831  2017-12-29  170.520004  170.589996  169.220001  169.229996  168.542831   \n",
       "\n",
       "        Volume  \n",
       "2827  16349400  \n",
       "2828  33185500  \n",
       "2829  21498200  \n",
       "2830  16480200  \n",
       "2831  25999900  "
      ]
     },
     "execution_count": 4,
     "metadata": {},
     "output_type": "execute_result"
    }
   ],
   "source": [
    "# tail() function used to get the last n rows\n",
    "apple.tail()"
   ]
  },
  {
   "cell_type": "code",
   "execution_count": 5,
   "metadata": {},
   "outputs": [
    {
     "data": {
      "text/html": [
       "<div>\n",
       "<style scoped>\n",
       "    .dataframe tbody tr th:only-of-type {\n",
       "        vertical-align: middle;\n",
       "    }\n",
       "\n",
       "    .dataframe tbody tr th {\n",
       "        vertical-align: top;\n",
       "    }\n",
       "\n",
       "    .dataframe thead th {\n",
       "        text-align: right;\n",
       "    }\n",
       "</style>\n",
       "<table border=\"1\" class=\"dataframe\">\n",
       "  <thead>\n",
       "    <tr style=\"text-align: right;\">\n",
       "      <th></th>\n",
       "      <th>Open</th>\n",
       "      <th>Close</th>\n",
       "    </tr>\n",
       "  </thead>\n",
       "  <tbody>\n",
       "    <tr>\n",
       "      <td>0</td>\n",
       "      <td>10.728572</td>\n",
       "      <td>10.694285</td>\n",
       "    </tr>\n",
       "    <tr>\n",
       "      <td>1</td>\n",
       "      <td>10.635715</td>\n",
       "      <td>10.582857</td>\n",
       "    </tr>\n",
       "    <tr>\n",
       "      <td>2</td>\n",
       "      <td>10.585714</td>\n",
       "      <td>10.768572</td>\n",
       "    </tr>\n",
       "    <tr>\n",
       "      <td>3</td>\n",
       "      <td>10.647142</td>\n",
       "      <td>10.690000</td>\n",
       "    </tr>\n",
       "    <tr>\n",
       "      <td>4</td>\n",
       "      <td>10.631429</td>\n",
       "      <td>10.602858</td>\n",
       "    </tr>\n",
       "    <tr>\n",
       "      <td>...</td>\n",
       "      <td>...</td>\n",
       "      <td>...</td>\n",
       "    </tr>\n",
       "    <tr>\n",
       "      <td>2827</td>\n",
       "      <td>174.679993</td>\n",
       "      <td>175.009995</td>\n",
       "    </tr>\n",
       "    <tr>\n",
       "      <td>2828</td>\n",
       "      <td>170.800003</td>\n",
       "      <td>170.570007</td>\n",
       "    </tr>\n",
       "    <tr>\n",
       "      <td>2829</td>\n",
       "      <td>170.100006</td>\n",
       "      <td>170.600006</td>\n",
       "    </tr>\n",
       "    <tr>\n",
       "      <td>2830</td>\n",
       "      <td>171.000000</td>\n",
       "      <td>171.080002</td>\n",
       "    </tr>\n",
       "    <tr>\n",
       "      <td>2831</td>\n",
       "      <td>170.520004</td>\n",
       "      <td>169.229996</td>\n",
       "    </tr>\n",
       "  </tbody>\n",
       "</table>\n",
       "<p>2832 rows × 2 columns</p>\n",
       "</div>"
      ],
      "text/plain": [
       "            Open       Close\n",
       "0      10.728572   10.694285\n",
       "1      10.635715   10.582857\n",
       "2      10.585714   10.768572\n",
       "3      10.647142   10.690000\n",
       "4      10.631429   10.602858\n",
       "...          ...         ...\n",
       "2827  174.679993  175.009995\n",
       "2828  170.800003  170.570007\n",
       "2829  170.100006  170.600006\n",
       "2830  171.000000  171.080002\n",
       "2831  170.520004  169.229996\n",
       "\n",
       "[2832 rows x 2 columns]"
      ]
     },
     "execution_count": 5,
     "metadata": {},
     "output_type": "execute_result"
    }
   ],
   "source": [
    "# selecting multiple column from dataframe\n",
    "apple[['Open', 'Close']]"
   ]
  },
  {
   "cell_type": "code",
   "execution_count": 6,
   "metadata": {},
   "outputs": [
    {
     "name": "stdout",
     "output_type": "stream",
     "text": [
      "(2832, 7)\n"
     ]
    }
   ],
   "source": [
    "# dimension of dataframe in rows and column\n",
    "print(apple.shape)"
   ]
  },
  {
   "cell_type": "code",
   "execution_count": 7,
   "metadata": {},
   "outputs": [
    {
     "data": {
      "text/html": [
       "<div>\n",
       "<style scoped>\n",
       "    .dataframe tbody tr th:only-of-type {\n",
       "        vertical-align: middle;\n",
       "    }\n",
       "\n",
       "    .dataframe tbody tr th {\n",
       "        vertical-align: top;\n",
       "    }\n",
       "\n",
       "    .dataframe thead th {\n",
       "        text-align: right;\n",
       "    }\n",
       "</style>\n",
       "<table border=\"1\" class=\"dataframe\">\n",
       "  <thead>\n",
       "    <tr style=\"text-align: right;\">\n",
       "      <th></th>\n",
       "      <th>Open</th>\n",
       "      <th>High</th>\n",
       "      <th>Low</th>\n",
       "      <th>Close</th>\n",
       "      <th>Adj Close</th>\n",
       "      <th>Volume</th>\n",
       "    </tr>\n",
       "  </thead>\n",
       "  <tbody>\n",
       "    <tr>\n",
       "      <td>count</td>\n",
       "      <td>2832.000000</td>\n",
       "      <td>2832.000000</td>\n",
       "      <td>2832.000000</td>\n",
       "      <td>2832.000000</td>\n",
       "      <td>2832.000000</td>\n",
       "      <td>2.832000e+03</td>\n",
       "    </tr>\n",
       "    <tr>\n",
       "      <td>mean</td>\n",
       "      <td>68.320872</td>\n",
       "      <td>68.933320</td>\n",
       "      <td>67.649567</td>\n",
       "      <td>68.311338</td>\n",
       "      <td>58.889247</td>\n",
       "      <td>1.247076e+08</td>\n",
       "    </tr>\n",
       "    <tr>\n",
       "      <td>std</td>\n",
       "      <td>43.575515</td>\n",
       "      <td>43.848188</td>\n",
       "      <td>43.295483</td>\n",
       "      <td>43.585431</td>\n",
       "      <td>45.162888</td>\n",
       "      <td>9.902702e+07</td>\n",
       "    </tr>\n",
       "    <tr>\n",
       "      <td>min</td>\n",
       "      <td>10.488571</td>\n",
       "      <td>10.568571</td>\n",
       "      <td>10.371428</td>\n",
       "      <td>10.461429</td>\n",
       "      <td>7.081933</td>\n",
       "      <td>1.147590e+07</td>\n",
       "    </tr>\n",
       "    <tr>\n",
       "      <td>25%</td>\n",
       "      <td>26.483928</td>\n",
       "      <td>26.698572</td>\n",
       "      <td>26.018215</td>\n",
       "      <td>26.435715</td>\n",
       "      <td>17.895826</td>\n",
       "      <td>5.039560e+07</td>\n",
       "    </tr>\n",
       "    <tr>\n",
       "      <td>50%</td>\n",
       "      <td>63.119999</td>\n",
       "      <td>64.015716</td>\n",
       "      <td>62.493572</td>\n",
       "      <td>63.212858</td>\n",
       "      <td>47.810322</td>\n",
       "      <td>9.986585e+07</td>\n",
       "    </tr>\n",
       "    <tr>\n",
       "      <td>75%</td>\n",
       "      <td>101.552500</td>\n",
       "      <td>102.372501</td>\n",
       "      <td>100.632500</td>\n",
       "      <td>101.592501</td>\n",
       "      <td>96.878050</td>\n",
       "      <td>1.672990e+08</td>\n",
       "    </tr>\n",
       "    <tr>\n",
       "      <td>max</td>\n",
       "      <td>175.110001</td>\n",
       "      <td>177.199997</td>\n",
       "      <td>174.860001</td>\n",
       "      <td>176.419998</td>\n",
       "      <td>175.703629</td>\n",
       "      <td>8.432424e+08</td>\n",
       "    </tr>\n",
       "  </tbody>\n",
       "</table>\n",
       "</div>"
      ],
      "text/plain": [
       "              Open         High          Low        Close    Adj Close  \\\n",
       "count  2832.000000  2832.000000  2832.000000  2832.000000  2832.000000   \n",
       "mean     68.320872    68.933320    67.649567    68.311338    58.889247   \n",
       "std      43.575515    43.848188    43.295483    43.585431    45.162888   \n",
       "min      10.488571    10.568571    10.371428    10.461429     7.081933   \n",
       "25%      26.483928    26.698572    26.018215    26.435715    17.895826   \n",
       "50%      63.119999    64.015716    62.493572    63.212858    47.810322   \n",
       "75%     101.552500   102.372501   100.632500   101.592501    96.878050   \n",
       "max     175.110001   177.199997   174.860001   176.419998   175.703629   \n",
       "\n",
       "             Volume  \n",
       "count  2.832000e+03  \n",
       "mean   1.247076e+08  \n",
       "std    9.902702e+07  \n",
       "min    1.147590e+07  \n",
       "25%    5.039560e+07  \n",
       "50%    9.986585e+07  \n",
       "75%    1.672990e+08  \n",
       "max    8.432424e+08  "
      ]
     },
     "execution_count": 7,
     "metadata": {},
     "output_type": "execute_result"
    }
   ],
   "source": [
    "# describe generate descriptive statistics\n",
    "apple.describe()"
   ]
  },
  {
   "cell_type": "markdown",
   "metadata": {},
   "source": [
    "### 2) Visualizing Stock Price"
   ]
  },
  {
   "cell_type": "code",
   "execution_count": 8,
   "metadata": {},
   "outputs": [
    {
     "data": {
      "image/png": "[encoded data removed]",
      "text/plain": [
       "<Figure size 432x288 with 1 Axes>"
      ]
     },
     "metadata": {
      "needs_background": "light"
     },
     "output_type": "display_data"
    }
   ],
   "source": [
    "apple.plot()\n",
    "plt.show()"
   ]
  },
  {
   "cell_type": "code",
   "execution_count": 9,
   "metadata": {},
   "outputs": [
    {
     "data": {
      "image/png": "[encoded data removed]",
      "text/plain": [
       "<Figure size 432x288 with 1 Axes>"
      ]
     },
     "metadata": {
      "needs_background": "light"
     },
     "output_type": "display_data"
    }
   ],
   "source": [
    "apple[['High','Low', 'Open', 'Close']].plot()\n",
    "plt.show()"
   ]
  },
  {
   "cell_type": "code",
   "execution_count": 10,
   "metadata": {},
   "outputs": [
    {
     "data": {
      "image/png": "[encoded data removed]",
      "text/plain": [
       "<Figure size 432x288 with 1 Axes>"
      ]
     },
     "metadata": {
      "needs_background": "light"
     },
     "output_type": "display_data"
    }
   ],
   "source": [
    "apple['Close'].plot()\n",
    "plt.show()"
   ]
  },
  {
   "cell_type": "code",
   "execution_count": 11,
   "metadata": {},
   "outputs": [
    {
     "data": {
      "image/png": "[encoded data removed]",
      "text/plain": [
       "<Figure size 432x288 with 1 Axes>"
      ]
     },
     "metadata": {
      "needs_background": "light"
     },
     "output_type": "display_data"
    }
   ],
   "source": [
    "apple.loc['2006-10-02':'2009-12-29', 'Close'].plot() \n",
    "plt.xlabel(\"date\")\n",
    "plt.ylabel(\"$ Price\")\n",
    "plt.show()"
   ]
  },
  {
   "cell_type": "code",
   "execution_count": 12,
   "metadata": {},
   "outputs": [
    {
     "data": {
      "image/png": "[encoded data removed]",
      "text/plain": [
       "<Figure size 432x288 with 1 Axes>"
      ]
     },
     "metadata": {
      "needs_background": "light"
     },
     "output_type": "display_data"
    }
   ],
   "source": [
    "apple.loc['2008-01-02':'2016-12-31', 'Close'].plot() #2016\n",
    "plt.show()"
   ]
  },
  {
   "cell_type": "code",
   "execution_count": 13,
   "metadata": {},
   "outputs": [
    {
     "data": {
      "image/png": "[encoded data removed]",
      "text/plain": [
       "<Figure size 432x288 with 1 Axes>"
      ]
     },
     "metadata": {
      "needs_background": "light"
     },
     "output_type": "display_data"
    }
   ],
   "source": [
    "apple.loc['2006-10-02':'2017-12-29', 'Close'].plot() \n",
    "apple.loc['2006-10-02':'2017-12-29', 'High'].plot() \n",
    "apple.loc['2006-10-02':'2017-12-29', 'Low'].plot() \n",
    "plt.xlabel(\"date\")\n",
    "plt.ylabel(\"$ Price\")\n",
    "plt.show()"
   ]
  },
  {
   "cell_type": "markdown",
   "metadata": {},
   "source": [
    "### 3) Price Difference"
   ]
  },
  {
   "cell_type": "code",
   "execution_count": 14,
   "metadata": {},
   "outputs": [],
   "source": [
    "#Create a new column PriceDiff in the DataFrame apple\n",
    "apple['PriceDiff'] = apple['Close'].shift(-1) - apple['Close']"
   ]
  },
  {
   "cell_type": "code",
   "execution_count": 15,
   "metadata": {},
   "outputs": [
    {
     "data": {
      "text/html": [
       "<div>\n",
       "<style scoped>\n",
       "    .dataframe tbody tr th:only-of-type {\n",
       "        vertical-align: middle;\n",
       "    }\n",
       "\n",
       "    .dataframe tbody tr th {\n",
       "        vertical-align: top;\n",
       "    }\n",
       "\n",
       "    .dataframe thead th {\n",
       "        text-align: right;\n",
       "    }\n",
       "</style>\n",
       "<table border=\"1\" class=\"dataframe\">\n",
       "  <thead>\n",
       "    <tr style=\"text-align: right;\">\n",
       "      <th></th>\n",
       "      <th>Date</th>\n",
       "      <th>Open</th>\n",
       "      <th>High</th>\n",
       "      <th>Low</th>\n",
       "      <th>Close</th>\n",
       "      <th>Adj Close</th>\n",
       "      <th>Volume</th>\n",
       "      <th>PriceDiff</th>\n",
       "    </tr>\n",
       "  </thead>\n",
       "  <tbody>\n",
       "    <tr>\n",
       "      <td>0</td>\n",
       "      <td>2006-10-02</td>\n",
       "      <td>10.728572</td>\n",
       "      <td>10.838572</td>\n",
       "      <td>10.614285</td>\n",
       "      <td>10.694285</td>\n",
       "      <td>7.239566</td>\n",
       "      <td>178159800</td>\n",
       "      <td>-0.111428</td>\n",
       "    </tr>\n",
       "    <tr>\n",
       "      <td>1</td>\n",
       "      <td>2006-10-03</td>\n",
       "      <td>10.635715</td>\n",
       "      <td>10.707143</td>\n",
       "      <td>10.455714</td>\n",
       "      <td>10.582857</td>\n",
       "      <td>7.164135</td>\n",
       "      <td>197677200</td>\n",
       "      <td>0.185715</td>\n",
       "    </tr>\n",
       "    <tr>\n",
       "      <td>2</td>\n",
       "      <td>2006-10-04</td>\n",
       "      <td>10.585714</td>\n",
       "      <td>10.780000</td>\n",
       "      <td>10.451428</td>\n",
       "      <td>10.768572</td>\n",
       "      <td>7.289855</td>\n",
       "      <td>207270700</td>\n",
       "      <td>-0.078572</td>\n",
       "    </tr>\n",
       "    <tr>\n",
       "      <td>3</td>\n",
       "      <td>2006-10-05</td>\n",
       "      <td>10.647142</td>\n",
       "      <td>10.880000</td>\n",
       "      <td>10.590000</td>\n",
       "      <td>10.690000</td>\n",
       "      <td>7.236666</td>\n",
       "      <td>170970800</td>\n",
       "      <td>-0.087142</td>\n",
       "    </tr>\n",
       "    <tr>\n",
       "      <td>4</td>\n",
       "      <td>2006-10-06</td>\n",
       "      <td>10.631429</td>\n",
       "      <td>10.720000</td>\n",
       "      <td>10.544286</td>\n",
       "      <td>10.602858</td>\n",
       "      <td>7.177672</td>\n",
       "      <td>116739700</td>\n",
       "      <td>0.058570</td>\n",
       "    </tr>\n",
       "  </tbody>\n",
       "</table>\n",
       "</div>"
      ],
      "text/plain": [
       "         Date       Open       High        Low      Close  Adj Close  \\\n",
       "0  2006-10-02  10.728572  10.838572  10.614285  10.694285   7.239566   \n",
       "1  2006-10-03  10.635715  10.707143  10.455714  10.582857   7.164135   \n",
       "2  2006-10-04  10.585714  10.780000  10.451428  10.768572   7.289855   \n",
       "3  2006-10-05  10.647142  10.880000  10.590000  10.690000   7.236666   \n",
       "4  2006-10-06  10.631429  10.720000  10.544286  10.602858   7.177672   \n",
       "\n",
       "      Volume  PriceDiff  \n",
       "0  178159800  -0.111428  \n",
       "1  197677200   0.185715  \n",
       "2  207270700  -0.078572  \n",
       "3  170970800  -0.087142  \n",
       "4  116739700   0.058570  "
      ]
     },
     "execution_count": 15,
     "metadata": {},
     "output_type": "execute_result"
    }
   ],
   "source": [
    "apple.head()"
   ]
  },
  {
   "cell_type": "markdown",
   "metadata": {},
   "source": [
    "### 4) Daily Return"
   ]
  },
  {
   "cell_type": "markdown",
   "metadata": {},
   "source": [
    " Daily return means the change in stock price as a percentge of closing price of today.\n",
    " \n",
    " \n",
    " Daily Return = Price Difference/ Close Price of today"
   ]
  },
  {
   "cell_type": "code",
   "execution_count": 16,
   "metadata": {},
   "outputs": [],
   "source": [
    "#Create a new column Return in the DataFrame apple\n",
    "apple['Daily Return'] =apple['PriceDiff'] /apple['Close']"
   ]
  },
  {
   "cell_type": "code",
   "execution_count": 17,
   "metadata": {},
   "outputs": [
    {
     "data": {
      "text/html": [
       "<div>\n",
       "<style scoped>\n",
       "    .dataframe tbody tr th:only-of-type {\n",
       "        vertical-align: middle;\n",
       "    }\n",
       "\n",
       "    .dataframe tbody tr th {\n",
       "        vertical-align: top;\n",
       "    }\n",
       "\n",
       "    .dataframe thead th {\n",
       "        text-align: right;\n",
       "    }\n",
       "</style>\n",
       "<table border=\"1\" class=\"dataframe\">\n",
       "  <thead>\n",
       "    <tr style=\"text-align: right;\">\n",
       "      <th></th>\n",
       "      <th>Date</th>\n",
       "      <th>Open</th>\n",
       "      <th>High</th>\n",
       "      <th>Low</th>\n",
       "      <th>Close</th>\n",
       "      <th>Adj Close</th>\n",
       "      <th>Volume</th>\n",
       "      <th>PriceDiff</th>\n",
       "      <th>Daily Return</th>\n",
       "    </tr>\n",
       "  </thead>\n",
       "  <tbody>\n",
       "    <tr>\n",
       "      <td>0</td>\n",
       "      <td>2006-10-02</td>\n",
       "      <td>10.728572</td>\n",
       "      <td>10.838572</td>\n",
       "      <td>10.614285</td>\n",
       "      <td>10.694285</td>\n",
       "      <td>7.239566</td>\n",
       "      <td>178159800</td>\n",
       "      <td>-0.111428</td>\n",
       "      <td>-0.010419</td>\n",
       "    </tr>\n",
       "    <tr>\n",
       "      <td>1</td>\n",
       "      <td>2006-10-03</td>\n",
       "      <td>10.635715</td>\n",
       "      <td>10.707143</td>\n",
       "      <td>10.455714</td>\n",
       "      <td>10.582857</td>\n",
       "      <td>7.164135</td>\n",
       "      <td>197677200</td>\n",
       "      <td>0.185715</td>\n",
       "      <td>0.017549</td>\n",
       "    </tr>\n",
       "    <tr>\n",
       "      <td>2</td>\n",
       "      <td>2006-10-04</td>\n",
       "      <td>10.585714</td>\n",
       "      <td>10.780000</td>\n",
       "      <td>10.451428</td>\n",
       "      <td>10.768572</td>\n",
       "      <td>7.289855</td>\n",
       "      <td>207270700</td>\n",
       "      <td>-0.078572</td>\n",
       "      <td>-0.007296</td>\n",
       "    </tr>\n",
       "    <tr>\n",
       "      <td>3</td>\n",
       "      <td>2006-10-05</td>\n",
       "      <td>10.647142</td>\n",
       "      <td>10.880000</td>\n",
       "      <td>10.590000</td>\n",
       "      <td>10.690000</td>\n",
       "      <td>7.236666</td>\n",
       "      <td>170970800</td>\n",
       "      <td>-0.087142</td>\n",
       "      <td>-0.008152</td>\n",
       "    </tr>\n",
       "    <tr>\n",
       "      <td>4</td>\n",
       "      <td>2006-10-06</td>\n",
       "      <td>10.631429</td>\n",
       "      <td>10.720000</td>\n",
       "      <td>10.544286</td>\n",
       "      <td>10.602858</td>\n",
       "      <td>7.177672</td>\n",
       "      <td>116739700</td>\n",
       "      <td>0.058570</td>\n",
       "      <td>0.005524</td>\n",
       "    </tr>\n",
       "  </tbody>\n",
       "</table>\n",
       "</div>"
      ],
      "text/plain": [
       "         Date       Open       High        Low      Close  Adj Close  \\\n",
       "0  2006-10-02  10.728572  10.838572  10.614285  10.694285   7.239566   \n",
       "1  2006-10-03  10.635715  10.707143  10.455714  10.582857   7.164135   \n",
       "2  2006-10-04  10.585714  10.780000  10.451428  10.768572   7.289855   \n",
       "3  2006-10-05  10.647142  10.880000  10.590000  10.690000   7.236666   \n",
       "4  2006-10-06  10.631429  10.720000  10.544286  10.602858   7.177672   \n",
       "\n",
       "      Volume  PriceDiff  Daily Return  \n",
       "0  178159800  -0.111428     -0.010419  \n",
       "1  197677200   0.185715      0.017549  \n",
       "2  207270700  -0.078572     -0.007296  \n",
       "3  170970800  -0.087142     -0.008152  \n",
       "4  116739700   0.058570      0.005524  "
      ]
     },
     "execution_count": 17,
     "metadata": {},
     "output_type": "execute_result"
    }
   ],
   "source": [
    "apple.head()"
   ]
  },
  {
   "cell_type": "markdown",
   "metadata": {},
   "source": [
    "### 5) Direction"
   ]
  },
  {
   "cell_type": "markdown",
   "metadata": {},
   "source": [
    "The direction is determined by price difference. If price difference is positive, the direction is up and denoted as one. Otherwise, it's down and denoted as negative one.\n",
    "\n",
    "\n",
    "If the price difference is larger than 0, denote as 1, otherwise, denote as 0"
   ]
  },
  {
   "cell_type": "code",
   "execution_count": 18,
   "metadata": {},
   "outputs": [],
   "source": [
    " # The condition says we will get value 1 for direction if price differenc is positive otherwise it is negative\n",
    "apple['Direction'] = [1 if apple['PriceDiff'].loc[ei] > 0 else 0 for ei in apple.index ]"
   ]
  },
  {
   "cell_type": "code",
   "execution_count": 19,
   "metadata": {},
   "outputs": [
    {
     "data": {
      "text/html": [
       "<div>\n",
       "<style scoped>\n",
       "    .dataframe tbody tr th:only-of-type {\n",
       "        vertical-align: middle;\n",
       "    }\n",
       "\n",
       "    .dataframe tbody tr th {\n",
       "        vertical-align: top;\n",
       "    }\n",
       "\n",
       "    .dataframe thead th {\n",
       "        text-align: right;\n",
       "    }\n",
       "</style>\n",
       "<table border=\"1\" class=\"dataframe\">\n",
       "  <thead>\n",
       "    <tr style=\"text-align: right;\">\n",
       "      <th></th>\n",
       "      <th>Date</th>\n",
       "      <th>Open</th>\n",
       "      <th>High</th>\n",
       "      <th>Low</th>\n",
       "      <th>Close</th>\n",
       "      <th>Adj Close</th>\n",
       "      <th>Volume</th>\n",
       "      <th>PriceDiff</th>\n",
       "      <th>Daily Return</th>\n",
       "      <th>Direction</th>\n",
       "    </tr>\n",
       "  </thead>\n",
       "  <tbody>\n",
       "    <tr>\n",
       "      <td>0</td>\n",
       "      <td>2006-10-02</td>\n",
       "      <td>10.728572</td>\n",
       "      <td>10.838572</td>\n",
       "      <td>10.614285</td>\n",
       "      <td>10.694285</td>\n",
       "      <td>7.239566</td>\n",
       "      <td>178159800</td>\n",
       "      <td>-0.111428</td>\n",
       "      <td>-0.010419</td>\n",
       "      <td>0</td>\n",
       "    </tr>\n",
       "    <tr>\n",
       "      <td>1</td>\n",
       "      <td>2006-10-03</td>\n",
       "      <td>10.635715</td>\n",
       "      <td>10.707143</td>\n",
       "      <td>10.455714</td>\n",
       "      <td>10.582857</td>\n",
       "      <td>7.164135</td>\n",
       "      <td>197677200</td>\n",
       "      <td>0.185715</td>\n",
       "      <td>0.017549</td>\n",
       "      <td>1</td>\n",
       "    </tr>\n",
       "    <tr>\n",
       "      <td>2</td>\n",
       "      <td>2006-10-04</td>\n",
       "      <td>10.585714</td>\n",
       "      <td>10.780000</td>\n",
       "      <td>10.451428</td>\n",
       "      <td>10.768572</td>\n",
       "      <td>7.289855</td>\n",
       "      <td>207270700</td>\n",
       "      <td>-0.078572</td>\n",
       "      <td>-0.007296</td>\n",
       "      <td>0</td>\n",
       "    </tr>\n",
       "    <tr>\n",
       "      <td>3</td>\n",
       "      <td>2006-10-05</td>\n",
       "      <td>10.647142</td>\n",
       "      <td>10.880000</td>\n",
       "      <td>10.590000</td>\n",
       "      <td>10.690000</td>\n",
       "      <td>7.236666</td>\n",
       "      <td>170970800</td>\n",
       "      <td>-0.087142</td>\n",
       "      <td>-0.008152</td>\n",
       "      <td>0</td>\n",
       "    </tr>\n",
       "    <tr>\n",
       "      <td>4</td>\n",
       "      <td>2006-10-06</td>\n",
       "      <td>10.631429</td>\n",
       "      <td>10.720000</td>\n",
       "      <td>10.544286</td>\n",
       "      <td>10.602858</td>\n",
       "      <td>7.177672</td>\n",
       "      <td>116739700</td>\n",
       "      <td>0.058570</td>\n",
       "      <td>0.005524</td>\n",
       "      <td>1</td>\n",
       "    </tr>\n",
       "  </tbody>\n",
       "</table>\n",
       "</div>"
      ],
      "text/plain": [
       "         Date       Open       High        Low      Close  Adj Close  \\\n",
       "0  2006-10-02  10.728572  10.838572  10.614285  10.694285   7.239566   \n",
       "1  2006-10-03  10.635715  10.707143  10.455714  10.582857   7.164135   \n",
       "2  2006-10-04  10.585714  10.780000  10.451428  10.768572   7.289855   \n",
       "3  2006-10-05  10.647142  10.880000  10.590000  10.690000   7.236666   \n",
       "4  2006-10-06  10.631429  10.720000  10.544286  10.602858   7.177672   \n",
       "\n",
       "      Volume  PriceDiff  Daily Return  Direction  \n",
       "0  178159800  -0.111428     -0.010419          0  \n",
       "1  197677200   0.185715      0.017549          1  \n",
       "2  207270700  -0.078572     -0.007296          0  \n",
       "3  170970800  -0.087142     -0.008152          0  \n",
       "4  116739700   0.058570      0.005524          1  "
      ]
     },
     "execution_count": 19,
     "metadata": {},
     "output_type": "execute_result"
    }
   ],
   "source": [
    "apple.head()"
   ]
  },
  {
   "cell_type": "markdown",
   "metadata": {},
   "source": [
    "### 6.1) Moving Average Calculation\n",
    "\n",
    "Random fluctuations are very common in stock price and taking an average price in a period can smooth out the noise. We will have NAN at top 2 rows which means not a number."
   ]
  },
  {
   "cell_type": "code",
   "execution_count": 20,
   "metadata": {},
   "outputs": [],
   "source": [
    "apple['Average'] = (apple['Close'] + (apple['Close']).shift(1)\n",
    "                + (apple['Close']).shift(2))/3"
   ]
  },
  {
   "cell_type": "markdown",
   "metadata": {},
   "source": [
    "shift(1) means to shift the whole column downwards by 1 row. Similarly shift(2) means to shift the whole column downwards by 2 rows."
   ]
  },
  {
   "cell_type": "code",
   "execution_count": 21,
   "metadata": {},
   "outputs": [
    {
     "data": {
      "text/html": [
       "<div>\n",
       "<style scoped>\n",
       "    .dataframe tbody tr th:only-of-type {\n",
       "        vertical-align: middle;\n",
       "    }\n",
       "\n",
       "    .dataframe tbody tr th {\n",
       "        vertical-align: top;\n",
       "    }\n",
       "\n",
       "    .dataframe thead th {\n",
       "        text-align: right;\n",
       "    }\n",
       "</style>\n",
       "<table border=\"1\" class=\"dataframe\">\n",
       "  <thead>\n",
       "    <tr style=\"text-align: right;\">\n",
       "      <th></th>\n",
       "      <th>Date</th>\n",
       "      <th>Open</th>\n",
       "      <th>High</th>\n",
       "      <th>Low</th>\n",
       "      <th>Close</th>\n",
       "      <th>Adj Close</th>\n",
       "      <th>Volume</th>\n",
       "      <th>PriceDiff</th>\n",
       "      <th>Daily Return</th>\n",
       "      <th>Direction</th>\n",
       "      <th>Average</th>\n",
       "    </tr>\n",
       "  </thead>\n",
       "  <tbody>\n",
       "    <tr>\n",
       "      <td>0</td>\n",
       "      <td>2006-10-02</td>\n",
       "      <td>10.728572</td>\n",
       "      <td>10.838572</td>\n",
       "      <td>10.614285</td>\n",
       "      <td>10.694285</td>\n",
       "      <td>7.239566</td>\n",
       "      <td>178159800</td>\n",
       "      <td>-0.111428</td>\n",
       "      <td>-0.010419</td>\n",
       "      <td>0</td>\n",
       "      <td>NaN</td>\n",
       "    </tr>\n",
       "    <tr>\n",
       "      <td>1</td>\n",
       "      <td>2006-10-03</td>\n",
       "      <td>10.635715</td>\n",
       "      <td>10.707143</td>\n",
       "      <td>10.455714</td>\n",
       "      <td>10.582857</td>\n",
       "      <td>7.164135</td>\n",
       "      <td>197677200</td>\n",
       "      <td>0.185715</td>\n",
       "      <td>0.017549</td>\n",
       "      <td>1</td>\n",
       "      <td>NaN</td>\n",
       "    </tr>\n",
       "    <tr>\n",
       "      <td>2</td>\n",
       "      <td>2006-10-04</td>\n",
       "      <td>10.585714</td>\n",
       "      <td>10.780000</td>\n",
       "      <td>10.451428</td>\n",
       "      <td>10.768572</td>\n",
       "      <td>7.289855</td>\n",
       "      <td>207270700</td>\n",
       "      <td>-0.078572</td>\n",
       "      <td>-0.007296</td>\n",
       "      <td>0</td>\n",
       "      <td>10.681905</td>\n",
       "    </tr>\n",
       "    <tr>\n",
       "      <td>3</td>\n",
       "      <td>2006-10-05</td>\n",
       "      <td>10.647142</td>\n",
       "      <td>10.880000</td>\n",
       "      <td>10.590000</td>\n",
       "      <td>10.690000</td>\n",
       "      <td>7.236666</td>\n",
       "      <td>170970800</td>\n",
       "      <td>-0.087142</td>\n",
       "      <td>-0.008152</td>\n",
       "      <td>0</td>\n",
       "      <td>10.680476</td>\n",
       "    </tr>\n",
       "    <tr>\n",
       "      <td>4</td>\n",
       "      <td>2006-10-06</td>\n",
       "      <td>10.631429</td>\n",
       "      <td>10.720000</td>\n",
       "      <td>10.544286</td>\n",
       "      <td>10.602858</td>\n",
       "      <td>7.177672</td>\n",
       "      <td>116739700</td>\n",
       "      <td>0.058570</td>\n",
       "      <td>0.005524</td>\n",
       "      <td>1</td>\n",
       "      <td>10.687143</td>\n",
       "    </tr>\n",
       "  </tbody>\n",
       "</table>\n",
       "</div>"
      ],
      "text/plain": [
       "         Date       Open       High        Low      Close  Adj Close  \\\n",
       "0  2006-10-02  10.728572  10.838572  10.614285  10.694285   7.239566   \n",
       "1  2006-10-03  10.635715  10.707143  10.455714  10.582857   7.164135   \n",
       "2  2006-10-04  10.585714  10.780000  10.451428  10.768572   7.289855   \n",
       "3  2006-10-05  10.647142  10.880000  10.590000  10.690000   7.236666   \n",
       "4  2006-10-06  10.631429  10.720000  10.544286  10.602858   7.177672   \n",
       "\n",
       "      Volume  PriceDiff  Daily Return  Direction    Average  \n",
       "0  178159800  -0.111428     -0.010419          0        NaN  \n",
       "1  197677200   0.185715      0.017549          1        NaN  \n",
       "2  207270700  -0.078572     -0.007296          0  10.681905  \n",
       "3  170970800  -0.087142     -0.008152          0  10.680476  \n",
       "4  116739700   0.058570      0.005524          1  10.687143  "
      ]
     },
     "execution_count": 21,
     "metadata": {},
     "output_type": "execute_result"
    }
   ],
   "source": [
    "apple.head()"
   ]
  },
  {
   "cell_type": "markdown",
   "metadata": {},
   "source": [
    "### 6.2) Moving Average using rolling()"
   ]
  },
  {
   "cell_type": "markdown",
   "metadata": {},
   "source": [
    "Rolling is a very nice method to provide us rolling window calculation. We can use this rolling window to calculate mean even sum."
   ]
  },
  {
   "cell_type": "markdown",
   "metadata": {},
   "source": [
    "Moving Average of short period (Fast Signal) is more closely associated with recent change of stock price. Moving Average over long period (slow signal) reflects the price change over long-term history. \n",
    "\n",
    "\n",
    "MA3-> short period-> fast signal\n",
    "\n",
    "MA200-> long period-> slow signal"
   ]
  },
  {
   "cell_type": "code",
   "execution_count": 22,
   "metadata": {},
   "outputs": [],
   "source": [
    "apple['ma3'] = apple['Close'].rolling(3).mean()"
   ]
  },
  {
   "cell_type": "code",
   "execution_count": 23,
   "metadata": {},
   "outputs": [
    {
     "data": {
      "text/html": [
       "<div>\n",
       "<style scoped>\n",
       "    .dataframe tbody tr th:only-of-type {\n",
       "        vertical-align: middle;\n",
       "    }\n",
       "\n",
       "    .dataframe tbody tr th {\n",
       "        vertical-align: top;\n",
       "    }\n",
       "\n",
       "    .dataframe thead th {\n",
       "        text-align: right;\n",
       "    }\n",
       "</style>\n",
       "<table border=\"1\" class=\"dataframe\">\n",
       "  <thead>\n",
       "    <tr style=\"text-align: right;\">\n",
       "      <th></th>\n",
       "      <th>Date</th>\n",
       "      <th>Open</th>\n",
       "      <th>High</th>\n",
       "      <th>Low</th>\n",
       "      <th>Close</th>\n",
       "      <th>Adj Close</th>\n",
       "      <th>Volume</th>\n",
       "      <th>PriceDiff</th>\n",
       "      <th>Daily Return</th>\n",
       "      <th>Direction</th>\n",
       "      <th>Average</th>\n",
       "      <th>ma3</th>\n",
       "    </tr>\n",
       "  </thead>\n",
       "  <tbody>\n",
       "    <tr>\n",
       "      <td>0</td>\n",
       "      <td>2006-10-02</td>\n",
       "      <td>10.728572</td>\n",
       "      <td>10.838572</td>\n",
       "      <td>10.614285</td>\n",
       "      <td>10.694285</td>\n",
       "      <td>7.239566</td>\n",
       "      <td>178159800</td>\n",
       "      <td>-0.111428</td>\n",
       "      <td>-0.010419</td>\n",
       "      <td>0</td>\n",
       "      <td>NaN</td>\n",
       "      <td>NaN</td>\n",
       "    </tr>\n",
       "    <tr>\n",
       "      <td>1</td>\n",
       "      <td>2006-10-03</td>\n",
       "      <td>10.635715</td>\n",
       "      <td>10.707143</td>\n",
       "      <td>10.455714</td>\n",
       "      <td>10.582857</td>\n",
       "      <td>7.164135</td>\n",
       "      <td>197677200</td>\n",
       "      <td>0.185715</td>\n",
       "      <td>0.017549</td>\n",
       "      <td>1</td>\n",
       "      <td>NaN</td>\n",
       "      <td>NaN</td>\n",
       "    </tr>\n",
       "    <tr>\n",
       "      <td>2</td>\n",
       "      <td>2006-10-04</td>\n",
       "      <td>10.585714</td>\n",
       "      <td>10.780000</td>\n",
       "      <td>10.451428</td>\n",
       "      <td>10.768572</td>\n",
       "      <td>7.289855</td>\n",
       "      <td>207270700</td>\n",
       "      <td>-0.078572</td>\n",
       "      <td>-0.007296</td>\n",
       "      <td>0</td>\n",
       "      <td>10.681905</td>\n",
       "      <td>10.681905</td>\n",
       "    </tr>\n",
       "    <tr>\n",
       "      <td>3</td>\n",
       "      <td>2006-10-05</td>\n",
       "      <td>10.647142</td>\n",
       "      <td>10.880000</td>\n",
       "      <td>10.590000</td>\n",
       "      <td>10.690000</td>\n",
       "      <td>7.236666</td>\n",
       "      <td>170970800</td>\n",
       "      <td>-0.087142</td>\n",
       "      <td>-0.008152</td>\n",
       "      <td>0</td>\n",
       "      <td>10.680476</td>\n",
       "      <td>10.680476</td>\n",
       "    </tr>\n",
       "    <tr>\n",
       "      <td>4</td>\n",
       "      <td>2006-10-06</td>\n",
       "      <td>10.631429</td>\n",
       "      <td>10.720000</td>\n",
       "      <td>10.544286</td>\n",
       "      <td>10.602858</td>\n",
       "      <td>7.177672</td>\n",
       "      <td>116739700</td>\n",
       "      <td>0.058570</td>\n",
       "      <td>0.005524</td>\n",
       "      <td>1</td>\n",
       "      <td>10.687143</td>\n",
       "      <td>10.687143</td>\n",
       "    </tr>\n",
       "  </tbody>\n",
       "</table>\n",
       "</div>"
      ],
      "text/plain": [
       "         Date       Open       High        Low      Close  Adj Close  \\\n",
       "0  2006-10-02  10.728572  10.838572  10.614285  10.694285   7.239566   \n",
       "1  2006-10-03  10.635715  10.707143  10.455714  10.582857   7.164135   \n",
       "2  2006-10-04  10.585714  10.780000  10.451428  10.768572   7.289855   \n",
       "3  2006-10-05  10.647142  10.880000  10.590000  10.690000   7.236666   \n",
       "4  2006-10-06  10.631429  10.720000  10.544286  10.602858   7.177672   \n",
       "\n",
       "      Volume  PriceDiff  Daily Return  Direction    Average        ma3  \n",
       "0  178159800  -0.111428     -0.010419          0        NaN        NaN  \n",
       "1  197677200   0.185715      0.017549          1        NaN        NaN  \n",
       "2  207270700  -0.078572     -0.007296          0  10.681905  10.681905  \n",
       "3  170970800  -0.087142     -0.008152          0  10.680476  10.680476  \n",
       "4  116739700   0.058570      0.005524          1  10.687143  10.687143  "
      ]
     },
     "execution_count": 23,
     "metadata": {},
     "output_type": "execute_result"
    }
   ],
   "source": [
    "apple.head()"
   ]
  },
  {
   "cell_type": "markdown",
   "metadata": {},
   "source": [
    "We can plot these moving averages and compare them with Close price. We first plot Close price then moving average 3 and finally, moving average 200."
   ]
  },
  {
   "cell_type": "code",
   "execution_count": 24,
   "metadata": {},
   "outputs": [
    {
     "data": {
      "image/png": "[encoded data removed]",
      "text/plain": [
       "<Figure size 432x288 with 1 Axes>"
      ]
     },
     "metadata": {
      "needs_background": "light"
     },
     "output_type": "display_data"
    }
   ],
   "source": [
    "#plot the moving average\n",
    "apple['ma3'].plot(label='MA3')\n",
    "apple['Close'].plot(label='Close')\n",
    "plt.legend()\n",
    "plt.show()"
   ]
  },
  {
   "cell_type": "code",
   "execution_count": 25,
   "metadata": {},
   "outputs": [
    {
     "data": {
      "text/html": [
       "<div>\n",
       "<style scoped>\n",
       "    .dataframe tbody tr th:only-of-type {\n",
       "        vertical-align: middle;\n",
       "    }\n",
       "\n",
       "    .dataframe tbody tr th {\n",
       "        vertical-align: top;\n",
       "    }\n",
       "\n",
       "    .dataframe thead th {\n",
       "        text-align: right;\n",
       "    }\n",
       "</style>\n",
       "<table border=\"1\" class=\"dataframe\">\n",
       "  <thead>\n",
       "    <tr style=\"text-align: right;\">\n",
       "      <th></th>\n",
       "      <th>Date</th>\n",
       "      <th>Open</th>\n",
       "      <th>High</th>\n",
       "      <th>Low</th>\n",
       "      <th>Close</th>\n",
       "      <th>Adj Close</th>\n",
       "      <th>Volume</th>\n",
       "      <th>PriceDiff</th>\n",
       "      <th>Daily Return</th>\n",
       "      <th>Direction</th>\n",
       "      <th>Average</th>\n",
       "      <th>ma3</th>\n",
       "      <th>ma200</th>\n",
       "    </tr>\n",
       "  </thead>\n",
       "  <tbody>\n",
       "    <tr>\n",
       "      <td>0</td>\n",
       "      <td>2006-10-02</td>\n",
       "      <td>10.728572</td>\n",
       "      <td>10.838572</td>\n",
       "      <td>10.614285</td>\n",
       "      <td>10.694285</td>\n",
       "      <td>7.239566</td>\n",
       "      <td>178159800</td>\n",
       "      <td>-0.111428</td>\n",
       "      <td>-0.010419</td>\n",
       "      <td>0</td>\n",
       "      <td>NaN</td>\n",
       "      <td>NaN</td>\n",
       "      <td>NaN</td>\n",
       "    </tr>\n",
       "    <tr>\n",
       "      <td>1</td>\n",
       "      <td>2006-10-03</td>\n",
       "      <td>10.635715</td>\n",
       "      <td>10.707143</td>\n",
       "      <td>10.455714</td>\n",
       "      <td>10.582857</td>\n",
       "      <td>7.164135</td>\n",
       "      <td>197677200</td>\n",
       "      <td>0.185715</td>\n",
       "      <td>0.017549</td>\n",
       "      <td>1</td>\n",
       "      <td>NaN</td>\n",
       "      <td>NaN</td>\n",
       "      <td>NaN</td>\n",
       "    </tr>\n",
       "    <tr>\n",
       "      <td>2</td>\n",
       "      <td>2006-10-04</td>\n",
       "      <td>10.585714</td>\n",
       "      <td>10.780000</td>\n",
       "      <td>10.451428</td>\n",
       "      <td>10.768572</td>\n",
       "      <td>7.289855</td>\n",
       "      <td>207270700</td>\n",
       "      <td>-0.078572</td>\n",
       "      <td>-0.007296</td>\n",
       "      <td>0</td>\n",
       "      <td>10.681905</td>\n",
       "      <td>10.681905</td>\n",
       "      <td>NaN</td>\n",
       "    </tr>\n",
       "    <tr>\n",
       "      <td>3</td>\n",
       "      <td>2006-10-05</td>\n",
       "      <td>10.647142</td>\n",
       "      <td>10.880000</td>\n",
       "      <td>10.590000</td>\n",
       "      <td>10.690000</td>\n",
       "      <td>7.236666</td>\n",
       "      <td>170970800</td>\n",
       "      <td>-0.087142</td>\n",
       "      <td>-0.008152</td>\n",
       "      <td>0</td>\n",
       "      <td>10.680476</td>\n",
       "      <td>10.680476</td>\n",
       "      <td>NaN</td>\n",
       "    </tr>\n",
       "    <tr>\n",
       "      <td>4</td>\n",
       "      <td>2006-10-06</td>\n",
       "      <td>10.631429</td>\n",
       "      <td>10.720000</td>\n",
       "      <td>10.544286</td>\n",
       "      <td>10.602858</td>\n",
       "      <td>7.177672</td>\n",
       "      <td>116739700</td>\n",
       "      <td>0.058570</td>\n",
       "      <td>0.005524</td>\n",
       "      <td>1</td>\n",
       "      <td>10.687143</td>\n",
       "      <td>10.687143</td>\n",
       "      <td>NaN</td>\n",
       "    </tr>\n",
       "  </tbody>\n",
       "</table>\n",
       "</div>"
      ],
      "text/plain": [
       "         Date       Open       High        Low      Close  Adj Close  \\\n",
       "0  2006-10-02  10.728572  10.838572  10.614285  10.694285   7.239566   \n",
       "1  2006-10-03  10.635715  10.707143  10.455714  10.582857   7.164135   \n",
       "2  2006-10-04  10.585714  10.780000  10.451428  10.768572   7.289855   \n",
       "3  2006-10-05  10.647142  10.880000  10.590000  10.690000   7.236666   \n",
       "4  2006-10-06  10.631429  10.720000  10.544286  10.602858   7.177672   \n",
       "\n",
       "      Volume  PriceDiff  Daily Return  Direction    Average        ma3  ma200  \n",
       "0  178159800  -0.111428     -0.010419          0        NaN        NaN    NaN  \n",
       "1  197677200   0.185715      0.017549          1        NaN        NaN    NaN  \n",
       "2  207270700  -0.078572     -0.007296          0  10.681905  10.681905    NaN  \n",
       "3  170970800  -0.087142     -0.008152          0  10.680476  10.680476    NaN  \n",
       "4  116739700   0.058570      0.005524          1  10.687143  10.687143    NaN  "
      ]
     },
     "execution_count": 25,
     "metadata": {},
     "output_type": "execute_result"
    }
   ],
   "source": [
    "apple['ma200'] = apple['Close'].rolling(200).mean()\n",
    "apple.head()"
   ]
  },
  {
   "cell_type": "code",
   "execution_count": 26,
   "metadata": {},
   "outputs": [
    {
     "data": {
      "image/png": "[encoded data removed]",
      "text/plain": [
       "<Figure size 432x288 with 1 Axes>"
      ]
     },
     "metadata": {
      "needs_background": "light"
     },
     "output_type": "display_data"
    }
   ],
   "source": [
    "apple['ma3'].plot(label='MA3')\n",
    "apple['ma200'].plot(label='MA200')\n",
    "apple['Close'].plot(label='Close')\n",
    "plt.legend()\n",
    "plt.show()"
   ]
  },
  {
   "cell_type": "code",
   "execution_count": 27,
   "metadata": {},
   "outputs": [
    {
     "data": {
      "image/png": "[encoded data removed]",
      "text/plain": [
       "<Figure size 432x288 with 1 Axes>"
      ]
     },
     "metadata": {
      "needs_background": "light"
     },
     "output_type": "display_data"
    }
   ],
   "source": [
    "apple['ma3'].plot(label='MA3')\n",
    "apple['ma200'].plot(label='MA200')\n",
    "plt.legend()\n",
    "plt.show()"
   ]
  },
  {
   "cell_type": "markdown",
   "metadata": {},
   "source": [
    "### 7) Trading Strategy"
   ]
  },
  {
   "cell_type": "markdown",
   "metadata": {},
   "source": [
    "If MA3>MA200 ->stock price goes up in the next several days. Otherwise, the price will decrease.\n",
    "\n",
    "Our strategy is, if MA3 > MA200, we will buy and hold one share of stock, which means we will long one share of stock. This yellow area labels the days on which we buy and hold one share of stock.\n"
   ]
  },
  {
   "cell_type": "code",
   "execution_count": 28,
   "metadata": {},
   "outputs": [],
   "source": [
    "# Shares is equal to 1 if MA3 is larger than MA200, otherwise it is zero. \n",
    "apple['Shares'] = [1 if apple.loc[ei, 'ma3'] > apple.loc[ei, 'ma200'] else 0\n",
    "               for ei in apple.index]"
   ]
  },
  {
   "cell_type": "code",
   "execution_count": 29,
   "metadata": {},
   "outputs": [
    {
     "data": {
      "text/html": [
       "<div>\n",
       "<style scoped>\n",
       "    .dataframe tbody tr th:only-of-type {\n",
       "        vertical-align: middle;\n",
       "    }\n",
       "\n",
       "    .dataframe tbody tr th {\n",
       "        vertical-align: top;\n",
       "    }\n",
       "\n",
       "    .dataframe thead th {\n",
       "        text-align: right;\n",
       "    }\n",
       "</style>\n",
       "<table border=\"1\" class=\"dataframe\">\n",
       "  <thead>\n",
       "    <tr style=\"text-align: right;\">\n",
       "      <th></th>\n",
       "      <th>Date</th>\n",
       "      <th>Open</th>\n",
       "      <th>High</th>\n",
       "      <th>Low</th>\n",
       "      <th>Close</th>\n",
       "      <th>Adj Close</th>\n",
       "      <th>Volume</th>\n",
       "      <th>PriceDiff</th>\n",
       "      <th>Daily Return</th>\n",
       "      <th>Direction</th>\n",
       "      <th>Average</th>\n",
       "      <th>ma3</th>\n",
       "      <th>ma200</th>\n",
       "      <th>Shares</th>\n",
       "    </tr>\n",
       "  </thead>\n",
       "  <tbody>\n",
       "    <tr>\n",
       "      <td>0</td>\n",
       "      <td>2006-10-02</td>\n",
       "      <td>10.728572</td>\n",
       "      <td>10.838572</td>\n",
       "      <td>10.614285</td>\n",
       "      <td>10.694285</td>\n",
       "      <td>7.239566</td>\n",
       "      <td>178159800</td>\n",
       "      <td>-0.111428</td>\n",
       "      <td>-0.010419</td>\n",
       "      <td>0</td>\n",
       "      <td>NaN</td>\n",
       "      <td>NaN</td>\n",
       "      <td>NaN</td>\n",
       "      <td>0</td>\n",
       "    </tr>\n",
       "    <tr>\n",
       "      <td>1</td>\n",
       "      <td>2006-10-03</td>\n",
       "      <td>10.635715</td>\n",
       "      <td>10.707143</td>\n",
       "      <td>10.455714</td>\n",
       "      <td>10.582857</td>\n",
       "      <td>7.164135</td>\n",
       "      <td>197677200</td>\n",
       "      <td>0.185715</td>\n",
       "      <td>0.017549</td>\n",
       "      <td>1</td>\n",
       "      <td>NaN</td>\n",
       "      <td>NaN</td>\n",
       "      <td>NaN</td>\n",
       "      <td>0</td>\n",
       "    </tr>\n",
       "    <tr>\n",
       "      <td>2</td>\n",
       "      <td>2006-10-04</td>\n",
       "      <td>10.585714</td>\n",
       "      <td>10.780000</td>\n",
       "      <td>10.451428</td>\n",
       "      <td>10.768572</td>\n",
       "      <td>7.289855</td>\n",
       "      <td>207270700</td>\n",
       "      <td>-0.078572</td>\n",
       "      <td>-0.007296</td>\n",
       "      <td>0</td>\n",
       "      <td>10.681905</td>\n",
       "      <td>10.681905</td>\n",
       "      <td>NaN</td>\n",
       "      <td>0</td>\n",
       "    </tr>\n",
       "    <tr>\n",
       "      <td>3</td>\n",
       "      <td>2006-10-05</td>\n",
       "      <td>10.647142</td>\n",
       "      <td>10.880000</td>\n",
       "      <td>10.590000</td>\n",
       "      <td>10.690000</td>\n",
       "      <td>7.236666</td>\n",
       "      <td>170970800</td>\n",
       "      <td>-0.087142</td>\n",
       "      <td>-0.008152</td>\n",
       "      <td>0</td>\n",
       "      <td>10.680476</td>\n",
       "      <td>10.680476</td>\n",
       "      <td>NaN</td>\n",
       "      <td>0</td>\n",
       "    </tr>\n",
       "    <tr>\n",
       "      <td>4</td>\n",
       "      <td>2006-10-06</td>\n",
       "      <td>10.631429</td>\n",
       "      <td>10.720000</td>\n",
       "      <td>10.544286</td>\n",
       "      <td>10.602858</td>\n",
       "      <td>7.177672</td>\n",
       "      <td>116739700</td>\n",
       "      <td>0.058570</td>\n",
       "      <td>0.005524</td>\n",
       "      <td>1</td>\n",
       "      <td>10.687143</td>\n",
       "      <td>10.687143</td>\n",
       "      <td>NaN</td>\n",
       "      <td>0</td>\n",
       "    </tr>\n",
       "  </tbody>\n",
       "</table>\n",
       "</div>"
      ],
      "text/plain": [
       "         Date       Open       High        Low      Close  Adj Close  \\\n",
       "0  2006-10-02  10.728572  10.838572  10.614285  10.694285   7.239566   \n",
       "1  2006-10-03  10.635715  10.707143  10.455714  10.582857   7.164135   \n",
       "2  2006-10-04  10.585714  10.780000  10.451428  10.768572   7.289855   \n",
       "3  2006-10-05  10.647142  10.880000  10.590000  10.690000   7.236666   \n",
       "4  2006-10-06  10.631429  10.720000  10.544286  10.602858   7.177672   \n",
       "\n",
       "      Volume  PriceDiff  Daily Return  Direction    Average        ma3  ma200  \\\n",
       "0  178159800  -0.111428     -0.010419          0        NaN        NaN    NaN   \n",
       "1  197677200   0.185715      0.017549          1        NaN        NaN    NaN   \n",
       "2  207270700  -0.078572     -0.007296          0  10.681905  10.681905    NaN   \n",
       "3  170970800  -0.087142     -0.008152          0  10.680476  10.680476    NaN   \n",
       "4  116739700   0.058570      0.005524          1  10.687143  10.687143    NaN   \n",
       "\n",
       "   Shares  \n",
       "0       0  \n",
       "1       0  \n",
       "2       0  \n",
       "3       0  \n",
       "4       0  "
      ]
     },
     "execution_count": 29,
     "metadata": {},
     "output_type": "execute_result"
    }
   ],
   "source": [
    "apple.head()"
   ]
  },
  {
   "cell_type": "markdown",
   "metadata": {},
   "source": [
    "### 8) Daily Profit"
   ]
  },
  {
   "cell_type": "markdown",
   "metadata": {},
   "source": [
    "First, we create variable Close1, which is the close price of tomorrow. Then, we'll create a new variable called Profit, which indeed is the daily profit. If shares is equal to one, the daily profit is equal to the close price of tomorrow minus close price of today. It can be positive or negative. If negative, we lose money on that day. If shares is equal to 0, it means we do not have stock at hand, the profit is equal to zero."
   ]
  },
  {
   "cell_type": "code",
   "execution_count": 30,
   "metadata": {},
   "outputs": [],
   "source": [
    "# close1 is the close price of tomorrow\n",
    "apple['Close1'] = apple['Close'].shift(-1)"
   ]
  },
  {
   "cell_type": "code",
   "execution_count": 31,
   "metadata": {},
   "outputs": [],
   "source": [
    "# PROFIT = close price of tomorrow minus close price of today\n",
    "apple['Profit'] = [apple.loc[ei, 'Close1']-apple.loc[ei, 'Close']\n",
    "                if apple.loc[ei, 'Shares'] == 1\n",
    "                else 0 for ei in apple.index]"
   ]
  },
  {
   "cell_type": "markdown",
   "metadata": {},
   "source": [
    "If shares is equal to one, the daily profit is equal to the close price of tomorrow minus close price of today.\n",
    "If shares is equal to 0, it means we do not have stock at hand, the profit is equal to zero."
   ]
  },
  {
   "cell_type": "code",
   "execution_count": 32,
   "metadata": {},
   "outputs": [
    {
     "data": {
      "text/html": [
       "<div>\n",
       "<style scoped>\n",
       "    .dataframe tbody tr th:only-of-type {\n",
       "        vertical-align: middle;\n",
       "    }\n",
       "\n",
       "    .dataframe tbody tr th {\n",
       "        vertical-align: top;\n",
       "    }\n",
       "\n",
       "    .dataframe thead th {\n",
       "        text-align: right;\n",
       "    }\n",
       "</style>\n",
       "<table border=\"1\" class=\"dataframe\">\n",
       "  <thead>\n",
       "    <tr style=\"text-align: right;\">\n",
       "      <th></th>\n",
       "      <th>Date</th>\n",
       "      <th>Open</th>\n",
       "      <th>High</th>\n",
       "      <th>Low</th>\n",
       "      <th>Close</th>\n",
       "      <th>Adj Close</th>\n",
       "      <th>Volume</th>\n",
       "      <th>PriceDiff</th>\n",
       "      <th>Daily Return</th>\n",
       "      <th>Direction</th>\n",
       "      <th>Average</th>\n",
       "      <th>ma3</th>\n",
       "      <th>ma200</th>\n",
       "      <th>Shares</th>\n",
       "      <th>Close1</th>\n",
       "      <th>Profit</th>\n",
       "    </tr>\n",
       "  </thead>\n",
       "  <tbody>\n",
       "    <tr>\n",
       "      <td>0</td>\n",
       "      <td>2006-10-02</td>\n",
       "      <td>10.728572</td>\n",
       "      <td>10.838572</td>\n",
       "      <td>10.614285</td>\n",
       "      <td>10.694285</td>\n",
       "      <td>7.239566</td>\n",
       "      <td>178159800</td>\n",
       "      <td>-0.111428</td>\n",
       "      <td>-0.010419</td>\n",
       "      <td>0</td>\n",
       "      <td>NaN</td>\n",
       "      <td>NaN</td>\n",
       "      <td>NaN</td>\n",
       "      <td>0</td>\n",
       "      <td>10.582857</td>\n",
       "      <td>0.0</td>\n",
       "    </tr>\n",
       "    <tr>\n",
       "      <td>1</td>\n",
       "      <td>2006-10-03</td>\n",
       "      <td>10.635715</td>\n",
       "      <td>10.707143</td>\n",
       "      <td>10.455714</td>\n",
       "      <td>10.582857</td>\n",
       "      <td>7.164135</td>\n",
       "      <td>197677200</td>\n",
       "      <td>0.185715</td>\n",
       "      <td>0.017549</td>\n",
       "      <td>1</td>\n",
       "      <td>NaN</td>\n",
       "      <td>NaN</td>\n",
       "      <td>NaN</td>\n",
       "      <td>0</td>\n",
       "      <td>10.768572</td>\n",
       "      <td>0.0</td>\n",
       "    </tr>\n",
       "    <tr>\n",
       "      <td>2</td>\n",
       "      <td>2006-10-04</td>\n",
       "      <td>10.585714</td>\n",
       "      <td>10.780000</td>\n",
       "      <td>10.451428</td>\n",
       "      <td>10.768572</td>\n",
       "      <td>7.289855</td>\n",
       "      <td>207270700</td>\n",
       "      <td>-0.078572</td>\n",
       "      <td>-0.007296</td>\n",
       "      <td>0</td>\n",
       "      <td>10.681905</td>\n",
       "      <td>10.681905</td>\n",
       "      <td>NaN</td>\n",
       "      <td>0</td>\n",
       "      <td>10.690000</td>\n",
       "      <td>0.0</td>\n",
       "    </tr>\n",
       "    <tr>\n",
       "      <td>3</td>\n",
       "      <td>2006-10-05</td>\n",
       "      <td>10.647142</td>\n",
       "      <td>10.880000</td>\n",
       "      <td>10.590000</td>\n",
       "      <td>10.690000</td>\n",
       "      <td>7.236666</td>\n",
       "      <td>170970800</td>\n",
       "      <td>-0.087142</td>\n",
       "      <td>-0.008152</td>\n",
       "      <td>0</td>\n",
       "      <td>10.680476</td>\n",
       "      <td>10.680476</td>\n",
       "      <td>NaN</td>\n",
       "      <td>0</td>\n",
       "      <td>10.602858</td>\n",
       "      <td>0.0</td>\n",
       "    </tr>\n",
       "    <tr>\n",
       "      <td>4</td>\n",
       "      <td>2006-10-06</td>\n",
       "      <td>10.631429</td>\n",
       "      <td>10.720000</td>\n",
       "      <td>10.544286</td>\n",
       "      <td>10.602858</td>\n",
       "      <td>7.177672</td>\n",
       "      <td>116739700</td>\n",
       "      <td>0.058570</td>\n",
       "      <td>0.005524</td>\n",
       "      <td>1</td>\n",
       "      <td>10.687143</td>\n",
       "      <td>10.687143</td>\n",
       "      <td>NaN</td>\n",
       "      <td>0</td>\n",
       "      <td>10.661428</td>\n",
       "      <td>0.0</td>\n",
       "    </tr>\n",
       "  </tbody>\n",
       "</table>\n",
       "</div>"
      ],
      "text/plain": [
       "         Date       Open       High        Low      Close  Adj Close  \\\n",
       "0  2006-10-02  10.728572  10.838572  10.614285  10.694285   7.239566   \n",
       "1  2006-10-03  10.635715  10.707143  10.455714  10.582857   7.164135   \n",
       "2  2006-10-04  10.585714  10.780000  10.451428  10.768572   7.289855   \n",
       "3  2006-10-05  10.647142  10.880000  10.590000  10.690000   7.236666   \n",
       "4  2006-10-06  10.631429  10.720000  10.544286  10.602858   7.177672   \n",
       "\n",
       "      Volume  PriceDiff  Daily Return  Direction    Average        ma3  ma200  \\\n",
       "0  178159800  -0.111428     -0.010419          0        NaN        NaN    NaN   \n",
       "1  197677200   0.185715      0.017549          1        NaN        NaN    NaN   \n",
       "2  207270700  -0.078572     -0.007296          0  10.681905  10.681905    NaN   \n",
       "3  170970800  -0.087142     -0.008152          0  10.680476  10.680476    NaN   \n",
       "4  116739700   0.058570      0.005524          1  10.687143  10.687143    NaN   \n",
       "\n",
       "   Shares     Close1  Profit  \n",
       "0       0  10.582857     0.0  \n",
       "1       0  10.768572     0.0  \n",
       "2       0  10.690000     0.0  \n",
       "3       0  10.602858     0.0  \n",
       "4       0  10.661428     0.0  "
      ]
     },
     "execution_count": 32,
     "metadata": {},
     "output_type": "execute_result"
    }
   ],
   "source": [
    "apple.head()"
   ]
  },
  {
   "cell_type": "code",
   "execution_count": 33,
   "metadata": {},
   "outputs": [
    {
     "data": {
      "text/html": [
       "<div>\n",
       "<style scoped>\n",
       "    .dataframe tbody tr th:only-of-type {\n",
       "        vertical-align: middle;\n",
       "    }\n",
       "\n",
       "    .dataframe tbody tr th {\n",
       "        vertical-align: top;\n",
       "    }\n",
       "\n",
       "    .dataframe thead th {\n",
       "        text-align: right;\n",
       "    }\n",
       "</style>\n",
       "<table border=\"1\" class=\"dataframe\">\n",
       "  <thead>\n",
       "    <tr style=\"text-align: right;\">\n",
       "      <th></th>\n",
       "      <th>Date</th>\n",
       "      <th>Open</th>\n",
       "      <th>High</th>\n",
       "      <th>Low</th>\n",
       "      <th>Close</th>\n",
       "      <th>Adj Close</th>\n",
       "      <th>Volume</th>\n",
       "      <th>PriceDiff</th>\n",
       "      <th>Daily Return</th>\n",
       "      <th>Direction</th>\n",
       "      <th>Average</th>\n",
       "      <th>ma3</th>\n",
       "      <th>ma200</th>\n",
       "      <th>Shares</th>\n",
       "      <th>Close1</th>\n",
       "      <th>Profit</th>\n",
       "    </tr>\n",
       "  </thead>\n",
       "  <tbody>\n",
       "    <tr>\n",
       "      <td>2827</td>\n",
       "      <td>2017-12-22</td>\n",
       "      <td>174.679993</td>\n",
       "      <td>175.419998</td>\n",
       "      <td>174.500000</td>\n",
       "      <td>175.009995</td>\n",
       "      <td>174.299362</td>\n",
       "      <td>16349400</td>\n",
       "      <td>-4.439988</td>\n",
       "      <td>-0.025370</td>\n",
       "      <td>0</td>\n",
       "      <td>174.789999</td>\n",
       "      <td>174.789999</td>\n",
       "      <td>155.30330</td>\n",
       "      <td>1</td>\n",
       "      <td>170.570007</td>\n",
       "      <td>-4.439988</td>\n",
       "    </tr>\n",
       "    <tr>\n",
       "      <td>2828</td>\n",
       "      <td>2017-12-26</td>\n",
       "      <td>170.800003</td>\n",
       "      <td>171.470001</td>\n",
       "      <td>169.679993</td>\n",
       "      <td>170.570007</td>\n",
       "      <td>169.877396</td>\n",
       "      <td>33185500</td>\n",
       "      <td>0.029999</td>\n",
       "      <td>0.000176</td>\n",
       "      <td>1</td>\n",
       "      <td>173.529999</td>\n",
       "      <td>173.529999</td>\n",
       "      <td>155.46015</td>\n",
       "      <td>1</td>\n",
       "      <td>170.600006</td>\n",
       "      <td>0.029999</td>\n",
       "    </tr>\n",
       "    <tr>\n",
       "      <td>2829</td>\n",
       "      <td>2017-12-27</td>\n",
       "      <td>170.100006</td>\n",
       "      <td>170.779999</td>\n",
       "      <td>169.710007</td>\n",
       "      <td>170.600006</td>\n",
       "      <td>169.907272</td>\n",
       "      <td>21498200</td>\n",
       "      <td>0.479996</td>\n",
       "      <td>0.002814</td>\n",
       "      <td>1</td>\n",
       "      <td>172.060003</td>\n",
       "      <td>172.060003</td>\n",
       "      <td>155.61820</td>\n",
       "      <td>1</td>\n",
       "      <td>171.080002</td>\n",
       "      <td>0.479996</td>\n",
       "    </tr>\n",
       "    <tr>\n",
       "      <td>2830</td>\n",
       "      <td>2017-12-28</td>\n",
       "      <td>171.000000</td>\n",
       "      <td>171.850006</td>\n",
       "      <td>170.479996</td>\n",
       "      <td>171.080002</td>\n",
       "      <td>170.385315</td>\n",
       "      <td>16480200</td>\n",
       "      <td>-1.850006</td>\n",
       "      <td>-0.010814</td>\n",
       "      <td>0</td>\n",
       "      <td>170.750005</td>\n",
       "      <td>170.750005</td>\n",
       "      <td>155.77130</td>\n",
       "      <td>1</td>\n",
       "      <td>169.229996</td>\n",
       "      <td>-1.850006</td>\n",
       "    </tr>\n",
       "    <tr>\n",
       "      <td>2831</td>\n",
       "      <td>2017-12-29</td>\n",
       "      <td>170.520004</td>\n",
       "      <td>170.589996</td>\n",
       "      <td>169.220001</td>\n",
       "      <td>169.229996</td>\n",
       "      <td>168.542831</td>\n",
       "      <td>25999900</td>\n",
       "      <td>NaN</td>\n",
       "      <td>NaN</td>\n",
       "      <td>0</td>\n",
       "      <td>170.303335</td>\n",
       "      <td>170.303335</td>\n",
       "      <td>155.91400</td>\n",
       "      <td>1</td>\n",
       "      <td>NaN</td>\n",
       "      <td>NaN</td>\n",
       "    </tr>\n",
       "  </tbody>\n",
       "</table>\n",
       "</div>"
      ],
      "text/plain": [
       "            Date        Open        High         Low       Close   Adj Close  \\\n",
       "2827  2017-12-22  174.679993  175.419998  174.500000  175.009995  174.299362   \n",
       "2828  2017-12-26  170.800003  171.470001  169.679993  170.570007  169.877396   \n",
       "2829  2017-12-27  170.100006  170.779999  169.710007  170.600006  169.907272   \n",
       "2830  2017-12-28  171.000000  171.850006  170.479996  171.080002  170.385315   \n",
       "2831  2017-12-29  170.520004  170.589996  169.220001  169.229996  168.542831   \n",
       "\n",
       "        Volume  PriceDiff  Daily Return  Direction     Average         ma3  \\\n",
       "2827  16349400  -4.439988     -0.025370          0  174.789999  174.789999   \n",
       "2828  33185500   0.029999      0.000176          1  173.529999  173.529999   \n",
       "2829  21498200   0.479996      0.002814          1  172.060003  172.060003   \n",
       "2830  16480200  -1.850006     -0.010814          0  170.750005  170.750005   \n",
       "2831  25999900        NaN           NaN          0  170.303335  170.303335   \n",
       "\n",
       "          ma200  Shares      Close1    Profit  \n",
       "2827  155.30330       1  170.570007 -4.439988  \n",
       "2828  155.46015       1  170.600006  0.029999  \n",
       "2829  155.61820       1  171.080002  0.479996  \n",
       "2830  155.77130       1  169.229996 -1.850006  \n",
       "2831  155.91400       1         NaN       NaN  "
      ]
     },
     "execution_count": 33,
     "metadata": {},
     "output_type": "execute_result"
    }
   ],
   "source": [
    "apple.tail()"
   ]
  },
  {
   "cell_type": "markdown",
   "metadata": {},
   "source": [
    " We can plot the profit and find out on some days we make money, on other days we lose money."
   ]
  },
  {
   "cell_type": "code",
   "execution_count": 34,
   "metadata": {},
   "outputs": [
    {
     "data": {
      "text/plain": [
       "<matplotlib.lines.Line2D at 0x22f65ee7448>"
      ]
     },
     "execution_count": 34,
     "metadata": {},
     "output_type": "execute_result"
    },
    {
     "data": {
      "image/png": "[encoded data removed]",
      "text/plain": [
       "<Figure size 432x288 with 1 Axes>"
      ]
     },
     "metadata": {
      "needs_background": "light"
     },
     "output_type": "display_data"
    }
   ],
   "source": [
    "apple['Profit'].plot()\n",
    "plt.axhline(y=0, color= 'red')"
   ]
  },
  {
   "cell_type": "markdown",
   "metadata": {},
   "source": [
    "The positive value i.e. above zero -> we make money\n",
    "\n",
    "The negative values i.e. below zero -> we lose money"
   ]
  },
  {
   "cell_type": "markdown",
   "metadata": {},
   "source": [
    "### 9) Cumulative Wealth"
   ]
  },
  {
   "cell_type": "markdown",
   "metadata": {},
   "source": [
    "We can compute the cumulative wealth. We use DataFrame method, Cumsum to compute cumulative sum and create a new variable Wealth."
   ]
  },
  {
   "cell_type": "code",
   "execution_count": 35,
   "metadata": {},
   "outputs": [
    {
     "data": {
      "text/html": [
       "<div>\n",
       "<style scoped>\n",
       "    .dataframe tbody tr th:only-of-type {\n",
       "        vertical-align: middle;\n",
       "    }\n",
       "\n",
       "    .dataframe tbody tr th {\n",
       "        vertical-align: top;\n",
       "    }\n",
       "\n",
       "    .dataframe thead th {\n",
       "        text-align: right;\n",
       "    }\n",
       "</style>\n",
       "<table border=\"1\" class=\"dataframe\">\n",
       "  <thead>\n",
       "    <tr style=\"text-align: right;\">\n",
       "      <th></th>\n",
       "      <th>Date</th>\n",
       "      <th>Open</th>\n",
       "      <th>High</th>\n",
       "      <th>Low</th>\n",
       "      <th>Close</th>\n",
       "      <th>Adj Close</th>\n",
       "      <th>Volume</th>\n",
       "      <th>PriceDiff</th>\n",
       "      <th>Daily Return</th>\n",
       "      <th>Direction</th>\n",
       "      <th>Average</th>\n",
       "      <th>ma3</th>\n",
       "      <th>ma200</th>\n",
       "      <th>Shares</th>\n",
       "      <th>Close1</th>\n",
       "      <th>Profit</th>\n",
       "      <th>Wealth</th>\n",
       "    </tr>\n",
       "  </thead>\n",
       "  <tbody>\n",
       "    <tr>\n",
       "      <td>2827</td>\n",
       "      <td>2017-12-22</td>\n",
       "      <td>174.679993</td>\n",
       "      <td>175.419998</td>\n",
       "      <td>174.500000</td>\n",
       "      <td>175.009995</td>\n",
       "      <td>174.299362</td>\n",
       "      <td>16349400</td>\n",
       "      <td>-4.439988</td>\n",
       "      <td>-0.025370</td>\n",
       "      <td>0</td>\n",
       "      <td>174.789999</td>\n",
       "      <td>174.789999</td>\n",
       "      <td>155.30330</td>\n",
       "      <td>1</td>\n",
       "      <td>170.570007</td>\n",
       "      <td>-4.439988</td>\n",
       "      <td>168.630019</td>\n",
       "    </tr>\n",
       "    <tr>\n",
       "      <td>2828</td>\n",
       "      <td>2017-12-26</td>\n",
       "      <td>170.800003</td>\n",
       "      <td>171.470001</td>\n",
       "      <td>169.679993</td>\n",
       "      <td>170.570007</td>\n",
       "      <td>169.877396</td>\n",
       "      <td>33185500</td>\n",
       "      <td>0.029999</td>\n",
       "      <td>0.000176</td>\n",
       "      <td>1</td>\n",
       "      <td>173.529999</td>\n",
       "      <td>173.529999</td>\n",
       "      <td>155.46015</td>\n",
       "      <td>1</td>\n",
       "      <td>170.600006</td>\n",
       "      <td>0.029999</td>\n",
       "      <td>168.660018</td>\n",
       "    </tr>\n",
       "    <tr>\n",
       "      <td>2829</td>\n",
       "      <td>2017-12-27</td>\n",
       "      <td>170.100006</td>\n",
       "      <td>170.779999</td>\n",
       "      <td>169.710007</td>\n",
       "      <td>170.600006</td>\n",
       "      <td>169.907272</td>\n",
       "      <td>21498200</td>\n",
       "      <td>0.479996</td>\n",
       "      <td>0.002814</td>\n",
       "      <td>1</td>\n",
       "      <td>172.060003</td>\n",
       "      <td>172.060003</td>\n",
       "      <td>155.61820</td>\n",
       "      <td>1</td>\n",
       "      <td>171.080002</td>\n",
       "      <td>0.479996</td>\n",
       "      <td>169.140014</td>\n",
       "    </tr>\n",
       "    <tr>\n",
       "      <td>2830</td>\n",
       "      <td>2017-12-28</td>\n",
       "      <td>171.000000</td>\n",
       "      <td>171.850006</td>\n",
       "      <td>170.479996</td>\n",
       "      <td>171.080002</td>\n",
       "      <td>170.385315</td>\n",
       "      <td>16480200</td>\n",
       "      <td>-1.850006</td>\n",
       "      <td>-0.010814</td>\n",
       "      <td>0</td>\n",
       "      <td>170.750005</td>\n",
       "      <td>170.750005</td>\n",
       "      <td>155.77130</td>\n",
       "      <td>1</td>\n",
       "      <td>169.229996</td>\n",
       "      <td>-1.850006</td>\n",
       "      <td>167.290008</td>\n",
       "    </tr>\n",
       "    <tr>\n",
       "      <td>2831</td>\n",
       "      <td>2017-12-29</td>\n",
       "      <td>170.520004</td>\n",
       "      <td>170.589996</td>\n",
       "      <td>169.220001</td>\n",
       "      <td>169.229996</td>\n",
       "      <td>168.542831</td>\n",
       "      <td>25999900</td>\n",
       "      <td>NaN</td>\n",
       "      <td>NaN</td>\n",
       "      <td>0</td>\n",
       "      <td>170.303335</td>\n",
       "      <td>170.303335</td>\n",
       "      <td>155.91400</td>\n",
       "      <td>1</td>\n",
       "      <td>NaN</td>\n",
       "      <td>NaN</td>\n",
       "      <td>NaN</td>\n",
       "    </tr>\n",
       "  </tbody>\n",
       "</table>\n",
       "</div>"
      ],
      "text/plain": [
       "            Date        Open        High         Low       Close   Adj Close  \\\n",
       "2827  2017-12-22  174.679993  175.419998  174.500000  175.009995  174.299362   \n",
       "2828  2017-12-26  170.800003  171.470001  169.679993  170.570007  169.877396   \n",
       "2829  2017-12-27  170.100006  170.779999  169.710007  170.600006  169.907272   \n",
       "2830  2017-12-28  171.000000  171.850006  170.479996  171.080002  170.385315   \n",
       "2831  2017-12-29  170.520004  170.589996  169.220001  169.229996  168.542831   \n",
       "\n",
       "        Volume  PriceDiff  Daily Return  Direction     Average         ma3  \\\n",
       "2827  16349400  -4.439988     -0.025370          0  174.789999  174.789999   \n",
       "2828  33185500   0.029999      0.000176          1  173.529999  173.529999   \n",
       "2829  21498200   0.479996      0.002814          1  172.060003  172.060003   \n",
       "2830  16480200  -1.850006     -0.010814          0  170.750005  170.750005   \n",
       "2831  25999900        NaN           NaN          0  170.303335  170.303335   \n",
       "\n",
       "          ma200  Shares      Close1    Profit      Wealth  \n",
       "2827  155.30330       1  170.570007 -4.439988  168.630019  \n",
       "2828  155.46015       1  170.600006  0.029999  168.660018  \n",
       "2829  155.61820       1  171.080002  0.479996  169.140014  \n",
       "2830  155.77130       1  169.229996 -1.850006  167.290008  \n",
       "2831  155.91400       1         NaN       NaN         NaN  "
      ]
     },
     "execution_count": 35,
     "metadata": {},
     "output_type": "execute_result"
    }
   ],
   "source": [
    "apple['Wealth'] = apple['Profit'].cumsum()\n",
    "apple.tail()"
   ]
  },
  {
   "cell_type": "code",
   "execution_count": 36,
   "metadata": {},
   "outputs": [
    {
     "name": "stdout",
     "output_type": "stream",
     "text": [
      "Total money you win is 167.290008\n",
      "Total money you spent is 10.694285\n"
     ]
    }
   ],
   "source": [
    "print(\"Total money you win is\", apple.loc[apple.index[-2], 'Wealth'])\n",
    "print(\"Total money you spent is\", apple.loc[apple.index[0], 'Close'])"
   ]
  },
  {
   "cell_type": "markdown",
   "metadata": {},
   "source": [
    "This strategy makes about $167. In the last row, the profit and the wealth have NaN values, because those returns are computed from Close1, and Close1 is calculated using shift(-1). So, to get a terminal wealth using loc, the index level should be fb.index[-2]. Then, we print out wealth, which in fact is a sum of profit. To realize this profit, we need to buy one share of stock initially. So, our initial investment is a stock price on the first day."
   ]
  },
  {
   "cell_type": "code",
   "execution_count": 37,
   "metadata": {},
   "outputs": [
    {
     "data": {
      "text/plain": [
       "<matplotlib.axes._subplots.AxesSubplot at 0x22f65f43848>"
      ]
     },
     "execution_count": 37,
     "metadata": {},
     "output_type": "execute_result"
    },
    {
     "data": {
      "image/png": "[encoded data removed]",
      "text/plain": [
       "<Figure size 432x288 with 1 Axes>"
      ]
     },
     "metadata": {
      "needs_background": "light"
     },
     "output_type": "display_data"
    }
   ],
   "source": [
    "apple['Wealth'].plot()"
   ]
  },
  {
   "cell_type": "code",
   "execution_count": null,
   "metadata": {},
   "outputs": [],
   "source": []
  }
 ],
 "metadata": {
  "kernelspec": {
   "display_name": "Python 3",
   "language": "python",
   "name": "python3"
  },
  "language_info": {
   "codemirror_mode": {
    "name": "ipython",
    "version": 3
   },
   "file_extension": ".py",
   "mimetype": "text/x-python",
   "name": "python",
   "nbconvert_exporter": "python",
   "pygments_lexer": "ipython3",
   "version": "3.7.4"
  }
 },
 "nbformat": 4,
 "nbformat_minor": 2
}
